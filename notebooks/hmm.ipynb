{
 "cells": [
  {
   "cell_type": "code",
   "execution_count": null,
   "metadata": {},
   "outputs": [],
   "source": [
    "!pip install hmmlearn"
   ]
  },
  {
   "cell_type": "code",
   "execution_count": 39,
   "metadata": {},
   "outputs": [],
   "source": [
    "import numpy as np\n",
    "import matplotlib.pyplot as plt\n",
    "from hmmlearn import hmm"
   ]
  },
  {
   "cell_type": "code",
   "execution_count": 48,
   "metadata": {},
   "outputs": [
    {
     "name": "stdout",
     "output_type": "stream",
     "text": [
      "1\n",
      "388\n"
     ]
    },
    {
     "ename": "ValueError",
     "evalue": "setting an array element with a sequence. The requested array has an inhomogeneous shape after 1 dimensions. The detected shape was (388,) + inhomogeneous part.",
     "output_type": "error",
     "traceback": [
      "\u001b[0;31m---------------------------------------------------------------------------\u001b[0m",
      "\u001b[0;31mValueError\u001b[0m                                Traceback (most recent call last)",
      "\u001b[1;32m/workspaces/codespaces-jupyter/notebooks/hmm.ipynb Cell 3\u001b[0m line \u001b[0;36m1\n\u001b[1;32m     <a href='vscode-notebook-cell://codespaces%2Bsturdy-space-sniffle-gp55j7pp7vhwgrq/workspaces/codespaces-jupyter/notebooks/hmm.ipynb#W0sdnNjb2RlLXJlbW90ZQ%3D%3D?line=9'>10</a>\u001b[0m         hmm_input \u001b[39m=\u001b[39m [s\u001b[39m.\u001b[39msplit(\u001b[39m\"\u001b[39m\u001b[39m \u001b[39m\u001b[39m\"\u001b[39m) \u001b[39mfor\u001b[39;00m s \u001b[39min\u001b[39;00m raw_input ]\n\u001b[1;32m     <a href='vscode-notebook-cell://codespaces%2Bsturdy-space-sniffle-gp55j7pp7vhwgrq/workspaces/codespaces-jupyter/notebooks/hmm.ipynb#W0sdnNjb2RlLXJlbW90ZQ%3D%3D?line=10'>11</a>\u001b[0m     \u001b[39mreturn\u001b[39;00m np\u001b[39m.\u001b[39marray(hmm_input)\n\u001b[0;32m---> <a href='vscode-notebook-cell://codespaces%2Bsturdy-space-sniffle-gp55j7pp7vhwgrq/workspaces/codespaces-jupyter/notebooks/hmm.ipynb#W0sdnNjb2RlLXJlbW90ZQ%3D%3D?line=12'>13</a>\u001b[0m train_input \u001b[39m=\u001b[39m readInputFromFile(\u001b[39m\"\u001b[39;49m\u001b[39mtrain/3.5.txt\u001b[39;49m\u001b[39m\"\u001b[39;49m)\n\u001b[1;32m     <a href='vscode-notebook-cell://codespaces%2Bsturdy-space-sniffle-gp55j7pp7vhwgrq/workspaces/codespaces-jupyter/notebooks/hmm.ipynb#W0sdnNjb2RlLXJlbW90ZQ%3D%3D?line=13'>14</a>\u001b[0m test_input \u001b[39m=\u001b[39m readInputFromFile(\u001b[39m\"\u001b[39m\u001b[39mtest/3.5.txt\u001b[39m\u001b[39m\"\u001b[39m)\n",
      "\u001b[1;32m/workspaces/codespaces-jupyter/notebooks/hmm.ipynb Cell 3\u001b[0m line \u001b[0;36m1\n\u001b[1;32m      <a href='vscode-notebook-cell://codespaces%2Bsturdy-space-sniffle-gp55j7pp7vhwgrq/workspaces/codespaces-jupyter/notebooks/hmm.ipynb#W0sdnNjb2RlLXJlbW90ZQ%3D%3D?line=8'>9</a>\u001b[0m     \u001b[39mprint\u001b[39m(\u001b[39mlen\u001b[39m(raw_input))\n\u001b[1;32m     <a href='vscode-notebook-cell://codespaces%2Bsturdy-space-sniffle-gp55j7pp7vhwgrq/workspaces/codespaces-jupyter/notebooks/hmm.ipynb#W0sdnNjb2RlLXJlbW90ZQ%3D%3D?line=9'>10</a>\u001b[0m     hmm_input \u001b[39m=\u001b[39m [s\u001b[39m.\u001b[39msplit(\u001b[39m\"\u001b[39m\u001b[39m \u001b[39m\u001b[39m\"\u001b[39m) \u001b[39mfor\u001b[39;00m s \u001b[39min\u001b[39;00m raw_input ]\n\u001b[0;32m---> <a href='vscode-notebook-cell://codespaces%2Bsturdy-space-sniffle-gp55j7pp7vhwgrq/workspaces/codespaces-jupyter/notebooks/hmm.ipynb#W0sdnNjb2RlLXJlbW90ZQ%3D%3D?line=10'>11</a>\u001b[0m \u001b[39mreturn\u001b[39;00m np\u001b[39m.\u001b[39;49marray(hmm_input)\n",
      "\u001b[0;31mValueError\u001b[0m: setting an array element with a sequence. The requested array has an inhomogeneous shape after 1 dimensions. The detected shape was (388,) + inhomogeneous part."
     ]
    }
   ],
   "source": [
    "##reading from the text file for observation sequnce. Only using 4.0 for now\n",
    "\n",
    "def readInputFromFile(score):\n",
    "    file_path = score\n",
    "    with open(file_path, \"r\") as file:\n",
    "        lines = file.readlines()\n",
    "        print(len(lines))\n",
    "        raw_input = lines[0].split(\"K\")\n",
    "        print(len(raw_input))\n",
    "        hmm_input = [s.split(\" \") for s in raw_input ]\n",
    "    return np.array(hmm_input)\n",
    "\n",
    "train_input = readInputFromFile(\"train/3.5.txt\")\n",
    "test_input = readInputFromFile(\"test/3.5.txt\")"
   ]
  },
  {
   "cell_type": "code",
   "execution_count": 35,
   "metadata": {},
   "outputs": [
    {
     "data": {
      "text/plain": [
       "402"
      ]
     },
     "execution_count": 35,
     "metadata": {},
     "output_type": "execute_result"
    }
   ],
   "source": [
    "len(train_input)"
   ]
  },
  {
   "cell_type": "code",
   "execution_count": 45,
   "metadata": {},
   "outputs": [
    {
     "ename": "ValueError",
     "evalue": "setting an array element with a sequence. The requested array has an inhomogeneous shape after 1 dimensions. The detected shape was (388,) + inhomogeneous part.",
     "output_type": "error",
     "traceback": [
      "\u001b[0;31m---------------------------------------------------------------------------\u001b[0m",
      "\u001b[0;31mValueError\u001b[0m                                Traceback (most recent call last)",
      "\u001b[1;32m/workspaces/codespaces-jupyter/notebooks/hmm.ipynb Cell 5\u001b[0m line \u001b[0;36m2\n\u001b[1;32m     <a href='vscode-notebook-cell://codespaces%2Bsturdy-space-sniffle-gp55j7pp7vhwgrq/workspaces/codespaces-jupyter/notebooks/hmm.ipynb#W1sdnNjb2RlLXJlbW90ZQ%3D%3D?line=19'>20</a>\u001b[0m \u001b[39m# print(A_matrix)\u001b[39;00m\n\u001b[1;32m     <a href='vscode-notebook-cell://codespaces%2Bsturdy-space-sniffle-gp55j7pp7vhwgrq/workspaces/codespaces-jupyter/notebooks/hmm.ipynb#W1sdnNjb2RlLXJlbW90ZQ%3D%3D?line=20'>21</a>\u001b[0m \u001b[39m# model.transmat_ = np.array([np.random.dirichlet([0.9, 0.1]),\u001b[39;00m\n\u001b[1;32m     <a href='vscode-notebook-cell://codespaces%2Bsturdy-space-sniffle-gp55j7pp7vhwgrq/workspaces/codespaces-jupyter/notebooks/hmm.ipynb#W1sdnNjb2RlLXJlbW90ZQ%3D%3D?line=21'>22</a>\u001b[0m \u001b[39m#                             np.random.dirichlet([0.1, 0.9])])\u001b[39;00m\n\u001b[1;32m     <a href='vscode-notebook-cell://codespaces%2Bsturdy-space-sniffle-gp55j7pp7vhwgrq/workspaces/codespaces-jupyter/notebooks/hmm.ipynb#W1sdnNjb2RlLXJlbW90ZQ%3D%3D?line=22'>23</a>\u001b[0m model\u001b[39m.\u001b[39mtransmat_ \u001b[39m=\u001b[39m A_matrix\n\u001b[0;32m---> <a href='vscode-notebook-cell://codespaces%2Bsturdy-space-sniffle-gp55j7pp7vhwgrq/workspaces/codespaces-jupyter/notebooks/hmm.ipynb#W1sdnNjb2RlLXJlbW90ZQ%3D%3D?line=23'>24</a>\u001b[0m model\u001b[39m.\u001b[39;49mfit(train_input)\n\u001b[1;32m     <a href='vscode-notebook-cell://codespaces%2Bsturdy-space-sniffle-gp55j7pp7vhwgrq/workspaces/codespaces-jupyter/notebooks/hmm.ipynb#W1sdnNjb2RlLXJlbW90ZQ%3D%3D?line=24'>25</a>\u001b[0m score \u001b[39m=\u001b[39m model\u001b[39m.\u001b[39mscore(test_input)\n\u001b[1;32m     <a href='vscode-notebook-cell://codespaces%2Bsturdy-space-sniffle-gp55j7pp7vhwgrq/workspaces/codespaces-jupyter/notebooks/hmm.ipynb#W1sdnNjb2RlLXJlbW90ZQ%3D%3D?line=25'>26</a>\u001b[0m \u001b[39mprint\u001b[39m(\u001b[39mf\u001b[39m\u001b[39m'\u001b[39m\u001b[39mModel #\u001b[39m\u001b[39m{\u001b[39;00midx\u001b[39m}\u001b[39;00m\u001b[39m\\t\u001b[39;00m\u001b[39mScore: \u001b[39m\u001b[39m{\u001b[39;00mscore\u001b[39m}\u001b[39;00m\u001b[39m'\u001b[39m)\n",
      "File \u001b[0;32m~/.python/current/lib/python3.10/site-packages/hmmlearn/_emissions.py:27\u001b[0m, in \u001b[0;36m_make_wrapper.<locals>.<lambda>\u001b[0;34m(*args, **kwargs)\u001b[0m\n\u001b[1;32m     26\u001b[0m \u001b[39mdef\u001b[39;00m \u001b[39m_make_wrapper\u001b[39m(func):\n\u001b[0;32m---> 27\u001b[0m     \u001b[39mreturn\u001b[39;00m functools\u001b[39m.\u001b[39mwraps(func)(\u001b[39mlambda\u001b[39;00m \u001b[39m*\u001b[39margs, \u001b[39m*\u001b[39m\u001b[39m*\u001b[39mkwargs: func(\u001b[39m*\u001b[39;49margs, \u001b[39m*\u001b[39;49m\u001b[39m*\u001b[39;49mkwargs))\n",
      "File \u001b[0;32m~/.python/current/lib/python3.10/site-packages/hmmlearn/base.py:463\u001b[0m, in \u001b[0;36m_AbstractHMM.fit\u001b[0;34m(self, X, lengths)\u001b[0m\n\u001b[1;32m    441\u001b[0m \u001b[39mdef\u001b[39;00m \u001b[39mfit\u001b[39m(\u001b[39mself\u001b[39m, X, lengths\u001b[39m=\u001b[39m\u001b[39mNone\u001b[39;00m):\n\u001b[1;32m    442\u001b[0m \u001b[39m    \u001b[39m\u001b[39m\"\"\"\u001b[39;00m\n\u001b[1;32m    443\u001b[0m \u001b[39m    Estimate model parameters.\u001b[39;00m\n\u001b[1;32m    444\u001b[0m \n\u001b[0;32m   (...)\u001b[0m\n\u001b[1;32m    461\u001b[0m \u001b[39m        Returns self.\u001b[39;00m\n\u001b[1;32m    462\u001b[0m \u001b[39m    \"\"\"\u001b[39;00m\n\u001b[0;32m--> 463\u001b[0m     X \u001b[39m=\u001b[39m check_array(X)\n\u001b[1;32m    465\u001b[0m     \u001b[39mif\u001b[39;00m lengths \u001b[39mis\u001b[39;00m \u001b[39mNone\u001b[39;00m:\n\u001b[1;32m    466\u001b[0m         lengths \u001b[39m=\u001b[39m np\u001b[39m.\u001b[39masarray([X\u001b[39m.\u001b[39mshape[\u001b[39m0\u001b[39m]])\n",
      "File \u001b[0;32m~/.local/lib/python3.10/site-packages/sklearn/utils/validation.py:915\u001b[0m, in \u001b[0;36mcheck_array\u001b[0;34m(array, accept_sparse, accept_large_sparse, dtype, order, copy, force_all_finite, ensure_2d, allow_nd, ensure_min_samples, ensure_min_features, estimator, input_name)\u001b[0m\n\u001b[1;32m    913\u001b[0m         array \u001b[39m=\u001b[39m xp\u001b[39m.\u001b[39mastype(array, dtype, copy\u001b[39m=\u001b[39m\u001b[39mFalse\u001b[39;00m)\n\u001b[1;32m    914\u001b[0m     \u001b[39melse\u001b[39;00m:\n\u001b[0;32m--> 915\u001b[0m         array \u001b[39m=\u001b[39m _asarray_with_order(array, order\u001b[39m=\u001b[39;49morder, dtype\u001b[39m=\u001b[39;49mdtype, xp\u001b[39m=\u001b[39;49mxp)\n\u001b[1;32m    916\u001b[0m \u001b[39mexcept\u001b[39;00m ComplexWarning \u001b[39mas\u001b[39;00m complex_warning:\n\u001b[1;32m    917\u001b[0m     \u001b[39mraise\u001b[39;00m \u001b[39mValueError\u001b[39;00m(\n\u001b[1;32m    918\u001b[0m         \u001b[39m\"\u001b[39m\u001b[39mComplex data not supported\u001b[39m\u001b[39m\\n\u001b[39;00m\u001b[39m{}\u001b[39;00m\u001b[39m\\n\u001b[39;00m\u001b[39m\"\u001b[39m\u001b[39m.\u001b[39mformat(array)\n\u001b[1;32m    919\u001b[0m     ) \u001b[39mfrom\u001b[39;00m \u001b[39mcomplex_warning\u001b[39;00m\n",
      "File \u001b[0;32m~/.local/lib/python3.10/site-packages/sklearn/utils/_array_api.py:380\u001b[0m, in \u001b[0;36m_asarray_with_order\u001b[0;34m(array, dtype, order, copy, xp)\u001b[0m\n\u001b[1;32m    378\u001b[0m     array \u001b[39m=\u001b[39m numpy\u001b[39m.\u001b[39marray(array, order\u001b[39m=\u001b[39morder, dtype\u001b[39m=\u001b[39mdtype)\n\u001b[1;32m    379\u001b[0m \u001b[39melse\u001b[39;00m:\n\u001b[0;32m--> 380\u001b[0m     array \u001b[39m=\u001b[39m numpy\u001b[39m.\u001b[39;49masarray(array, order\u001b[39m=\u001b[39;49morder, dtype\u001b[39m=\u001b[39;49mdtype)\n\u001b[1;32m    382\u001b[0m \u001b[39m# At this point array is a NumPy ndarray. We convert it to an array\u001b[39;00m\n\u001b[1;32m    383\u001b[0m \u001b[39m# container that is consistent with the input's namespace.\u001b[39;00m\n\u001b[1;32m    384\u001b[0m \u001b[39mreturn\u001b[39;00m xp\u001b[39m.\u001b[39masarray(array)\n",
      "\u001b[0;31mValueError\u001b[0m: setting an array element with a sequence. The requested array has an inhomogeneous shape after 1 dimensions. The detected shape was (388,) + inhomogeneous part."
     ]
    }
   ],
   "source": [
    "best_score = best_model = None\n",
    "n_fits = 1\n",
    "N = 3\n",
    "np.random.seed(13)\n",
    "\n",
    "for idx in range(n_fits):\n",
    "    model = hmm.CategoricalHMM(\n",
    "        n_components=N, random_state=idx,\n",
    "        init_params='se')  # don't init transition, set it below\n",
    "    # we need to initialize with random transition matrix probabilities\n",
    "    # because the default is an even likelihood transition\n",
    "    # we know transitions are rare (otherwise the casino would get caught!)\n",
    "    # so let's have an Dirichlet random prior with an alpha value of\n",
    "    # (0.1, 0.9) to enforce our assumption transitions happen roughly 10%\n",
    "    # of the time\n",
    "\n",
    "    ##A \n",
    "    row_of_a = np.random.uniform(1/N - 1/(10*N),1/N + 1/(10*N),(N,N))\n",
    "    A_matrix = row_of_a * N\n",
    "    # print(A_matrix)\n",
    "    # model.transmat_ = np.array([np.random.dirichlet([0.9, 0.1]),\n",
    "    #                             np.random.dirichlet([0.1, 0.9])])\n",
    "    model.transmat_ = A_matrix\n",
    "    model.fit(train_input)\n",
    "    score = model.score(test_input)\n",
    "    print(f'Model #{idx}\\tScore: {score}')\n",
    "    if best_score is None or score > best_score:\n",
    "        best_model = model\n",
    "        best_score = score"
   ]
  },
  {
   "cell_type": "code",
   "execution_count": 47,
   "metadata": {},
   "outputs": [
    {
     "data": {
      "text/plain": [
       "array([[0, 1, 2],\n",
       "       [1, 2, 3],\n",
       "       [4, 5, 6]])"
      ]
     },
     "execution_count": 47,
     "metadata": {},
     "output_type": "execute_result"
    }
   ],
   "source": [
    "array_with_sequence = np.array([np.arange(3), [1, 2, 3], [4, 5, 6]])\n",
    "array_with_sequence"
   ]
  },
  {
   "cell_type": "code",
   "execution_count": 27,
   "metadata": {},
   "outputs": [
    {
     "name": "stdout",
     "output_type": "stream",
     "text": [
      "[[2]\n",
      " [0]\n",
      " [3]\n",
      " ...\n",
      " [5]\n",
      " [5]\n",
      " [0]]\n"
     ]
    }
   ],
   "source": [
    "# make our generative model with two components, a fair die and a\n",
    "# loaded die\n",
    "gen_model = hmm.CategoricalHMM(n_components=2, random_state=99)\n",
    "\n",
    "# the first state is the fair die so let's start there so no one\n",
    "# catches on right away\n",
    "gen_model.startprob_ = np.array([1.0, 0.0])\n",
    "\n",
    "# now let's say that we sneak the loaded die in:\n",
    "# here, we have a 95% chance to continue using the fair die and a 5%\n",
    "# chance to switch to the loaded die\n",
    "# when we enter the loaded die state, we have a 90% chance of staying\n",
    "# in that state and a 10% chance of leaving\n",
    "gen_model.transmat_ = np.array([[0.95, 0.05],\n",
    "                                [0.1, 0.9]])\n",
    "\n",
    "# now let's set the emission means:\n",
    "# the first state is a fair die with equal probabilities and the\n",
    "# second is loaded by being biased toward rolling a six\n",
    "gen_model.emissionprob_ = \\\n",
    "    np.array([[1 / 6, 1 / 6, 1 / 6, 1 / 6, 1 / 6, 1 / 6],\n",
    "              [1 / 10, 1 / 10, 1 / 10, 1 / 10, 1 / 10, 1 / 2]])\n",
    "\n",
    "# simulate the loaded dice rolls\n",
    "rolls, gen_states = gen_model.sample(30000)\n",
    "print(rolls)"
   ]
  }
 ],
 "metadata": {
  "kernelspec": {
   "display_name": "Python 3",
   "language": "python",
   "name": "python3"
  },
  "language_info": {
   "codemirror_mode": {
    "name": "ipython",
    "version": 3
   },
   "file_extension": ".py",
   "mimetype": "text/x-python",
   "name": "python",
   "nbconvert_exporter": "python",
   "pygments_lexer": "ipython3",
   "version": "3.10.13"
  }
 },
 "nbformat": 4,
 "nbformat_minor": 2
}
