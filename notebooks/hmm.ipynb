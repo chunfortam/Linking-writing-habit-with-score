{
 "cells": [
  {
   "cell_type": "code",
   "execution_count": 2,
   "metadata": {},
   "outputs": [
    {
     "name": "stdout",
     "output_type": "stream",
     "text": [
      "Requirement already satisfied: hmmlearn in /usr/local/python/3.10.13/lib/python3.10/site-packages (0.3.0)\n",
      "Requirement already satisfied: numpy>=1.10 in /usr/local/python/3.10.13/lib/python3.10/site-packages (from hmmlearn) (1.24.2)\n",
      "Requirement already satisfied: scikit-learn!=0.22.0,>=0.16 in /home/codespace/.local/lib/python3.10/site-packages (from hmmlearn) (1.3.2)\n",
      "Requirement already satisfied: scipy>=0.19 in /home/codespace/.local/lib/python3.10/site-packages (from hmmlearn) (1.11.3)\n",
      "Requirement already satisfied: joblib>=1.1.1 in /home/codespace/.local/lib/python3.10/site-packages (from scikit-learn!=0.22.0,>=0.16->hmmlearn) (1.3.2)\n",
      "Requirement already satisfied: threadpoolctl>=2.0.0 in /home/codespace/.local/lib/python3.10/site-packages (from scikit-learn!=0.22.0,>=0.16->hmmlearn) (3.2.0)\n",
      "Requirement already satisfied: scikit-learn in /home/codespace/.local/lib/python3.10/site-packages (1.3.2)\n",
      "Requirement already satisfied: numpy<2.0,>=1.17.3 in /usr/local/python/3.10.13/lib/python3.10/site-packages (from scikit-learn) (1.24.2)\n",
      "Requirement already satisfied: scipy>=1.5.0 in /home/codespace/.local/lib/python3.10/site-packages (from scikit-learn) (1.11.3)\n",
      "Requirement already satisfied: joblib>=1.1.1 in /home/codespace/.local/lib/python3.10/site-packages (from scikit-learn) (1.3.2)\n",
      "Requirement already satisfied: threadpoolctl>=2.0.0 in /home/codespace/.local/lib/python3.10/site-packages (from scikit-learn) (3.2.0)\n"
     ]
    }
   ],
   "source": [
    "# !pip install hmmlearn\n",
    "# !pip install scikit-learn"
   ]
  },
  {
   "cell_type": "code",
   "execution_count": 1,
   "metadata": {},
   "outputs": [],
   "source": [
    "import numpy as np\n",
    "import matplotlib.pyplot as plt\n",
    "from hmmlearn import hmm"
   ]
  },
  {
   "cell_type": "code",
   "execution_count": 17,
   "metadata": {},
   "outputs": [],
   "source": [
    "##reading from the text file for observation sequnce. Only using 4.0 for now\n",
    "\n",
    "def readInputFromFile(score):\n",
    "    file_path = score\n",
    "    with open(file_path, \"r\") as file:\n",
    "        lines = file.readlines()\n",
    "        seqs = lines[0].split(\"K\")\n",
    "        words = \" \".join(seqs).split(\" \")\n",
    "        string_id = {word: i for i, word in enumerate(set(words))}\n",
    "\n",
    "        seqs = [s.split(\" \") for s in seqs]\n",
    "        ##convert words in seqs to numbers\n",
    "        seqs = [[string_id[w] for w in s] for s in seqs]\n",
    "        # lines = file.readlines()\n",
    "        # print(len(lines))\n",
    "        # string_to_id = {string: i for i, string in enumerate(set(lines[0]))}\n",
    "        # raw_input = lines[0].split(\"K\")\n",
    "        # print(len(raw_input))\n",
    "        # raw_string_pre_pad = [s.split(\" \") for s in raw_input ]\n",
    "        \n",
    "        max_seq = max(len(s) for s in seqs)\n",
    "        hmm_input = [np.pad(s, (0, max_seq - len(s)), constant_values=9999) for s in seqs]\n",
    "        # print(hmm_input[0])\n",
    "    return hmm_input\n",
    "\n",
    "score_set = []\n",
    "\n",
    "for s in [\"3.5\", \"4.0\", \"0.5\", \"6.0\"]:\n",
    "    train_input = readInputFromFile(\"train/\" + s + \".txt\")\n",
    "    test_input = readInputFromFile(\"test/\" + s + \".txt\")\n",
    "    score_set.append((s, train_input, test_input))\n"
   ]
  },
  {
   "cell_type": "code",
   "execution_count": 5,
   "metadata": {},
   "outputs": [],
   "source": [
    "def findBestModel(n_fits, N, train_input, test_input):\n",
    "    best_score = best_model = None\n",
    "    np.random.seed(13)\n",
    "\n",
    "    for idx in range(n_fits):\n",
    "        model = hmm.CategoricalHMM(\n",
    "        n_components=N, random_state=idx,\n",
    "        init_params='se')  # don't init transition, set it below\n",
    "    # we need to initialize with random transition matrix probabilities\n",
    "    # because the default is an even likelihood transition\n",
    "    # we know transitions are rare (otherwise the casino would get caught!)\n",
    "    # so let's have an Dirichlet random prior with an alpha value of\n",
    "    # (0.1, 0.9) to enforce our assumption transitions happen roughly 10%\n",
    "    # of the time\n",
    "\n",
    "    ##A \n",
    "        epsilon = 1e-6\n",
    "        transmat = np.full((N, N), 1 / N) + epsilon\n",
    "        transmat /= transmat.sum(axis=1, keepdims=True)\n",
    "    # print(A_matrix)\n",
    "    # model.transmat_ = np.array([np.random.dirichlet([0.9, 0.1]),\n",
    "    #                             np.random.dirichlet([0.1, 0.9])])\n",
    "        model.transmat_ = transmat\n",
    "        model.fit(train_input)\n",
    "        score = model.score(test_input)\n",
    "        print(f'Model #{idx}\\tScore: {score}')\n",
    "        if best_score is None or score > best_score:\n",
    "            best_model = model\n",
    "            best_score = score\n",
    "    return best_score, best_model\n",
    "\n"
   ]
  },
  {
   "cell_type": "code",
   "execution_count": 24,
   "metadata": {},
   "outputs": [
    {
     "name": "stdout",
     "output_type": "stream",
     "text": [
      "Model #0\tScore: -4067214.0594240604\n",
      "Model #1\tScore: -4346488.444985692\n",
      "Model #2\tScore: -4206171.797621992\n"
     ]
    }
   ],
   "source": [
    "# import concurrent.futures\n",
    "# def findBestModel(n_fits, N, train_input, test_input):\n",
    "#     num_workers = 4\n",
    "#     best_score = best_model = None\n",
    "#     np.random.seed(13)\n",
    "#     with concurrent.futures.ProcessPoolExecutor(max_workers=num_workers) as executor:\n",
    "#         for idx in range(n_fits):\n",
    "#             model = hmm.CategoricalHMM(\n",
    "#             n_components=N, random_state=idx,\n",
    "#             init_params='se') \n",
    "#             arguments = [train_input] * num_workers\n",
    "#             futures = [executor.submit(model.fit, arg) for arg in arguments]\n",
    "#             concurrent.futures.wait(futures)\n",
    "#             result = [future.result() for future in futures]\n",
    "#             epsilon = 1e-6\n",
    "#             transmat = np.full((N, N), 1 / N) + epsilon\n",
    "#             transmat /= transmat.sum(axis=1, keepdims=True)\n",
    "#     # print(A_matrix)\n",
    "#     # model.transmat_ = np.array([np.random.dirichlet([0.9, 0.1]),\n",
    "#     #                             np.random.dirichlet([0.1, 0.9])])\n",
    "#             model.transmat_ = transmat\n",
    "#             model.fit(train_input)\n",
    "#             score = model.score(test_input)\n",
    "#             print(f'Model #{idx}\\tScore: {score}')\n",
    "#             if best_score is None or score > best_score:\n",
    "#                 best_model = model\n",
    "#                 best_score = score\n",
    "#     return best_score, best_model\n",
    "# s, train_input, test_input = score_set[0]\n",
    "# findBestModel(10,5, train_input, test_input)"
   ]
  },
  {
   "cell_type": "code",
   "execution_count": 19,
   "metadata": {},
   "outputs": [],
   "source": [
    "s, train_input, test_input = score_set[0]"
   ]
  },
  {
   "cell_type": "code",
   "execution_count": 7,
   "metadata": {},
   "outputs": [
    {
     "name": "stdout",
     "output_type": "stream",
     "text": [
      "Model #0\tScore: -2911818.172335366\n",
      "Model #0\tScore: -2911818.172335366\n",
      "Model #0\tScore: -2911818.172335366\n",
      "Model #0\tScore: -2911818.172335366\n",
      "Model #1\tScore: -2914912.973114216\n",
      "Model #1\tScore: -2914912.973114216\n",
      "Model #1\tScore: -2914912.973114216\n",
      "Model #1\tScore: -2914912.973114216\n",
      "Model #2\tScore: -2889247.3034791513\n",
      "Model #2\tScore: -2889247.3034791513\n",
      "Model #2\tScore: -2889247.3034791513\n",
      "Model #2\tScore: -2889247.3034791513\n",
      "Model #3\tScore: -3230960.2550703688\n",
      "Model #3\tScore: -3230960.2550703688\n",
      "Model #3\tScore: -3230960.2550703688\n",
      "Model #3\tScore: -3230960.2550703688\n",
      "Model #4\tScore: -2894357.638273493\n",
      "Model #4\tScore: -2894357.638273493\n",
      "Model #4\tScore: -2894357.638273493\n",
      "Model #4\tScore: -2894357.638273493\n",
      "Model #5\tScore: -3236777.035898587\n",
      "Model #5\tScore: -3236777.035898587\n",
      "Model #5\tScore: -3236777.035898587\n",
      "Model #5\tScore: -3236777.035898587\n",
      "Model #6\tScore: -3095666.813885435\n",
      "Model #6\tScore: -3095666.813885435\n",
      "Model #6\tScore: -3095666.813885435\n",
      "Model #6\tScore: -3095666.813885435\n",
      "Model #7\tScore: -2875005.4050302324\n",
      "Model #7\tScore: -2875005.4050302324\n",
      "Model #7\tScore: -2875005.4050302324\n",
      "Model #7\tScore: -2875005.4050302324\n",
      "Model #8\tScore: -2927099.249396947\n",
      "Model #8\tScore: -2927099.249396947\n",
      "Model #8\tScore: -2927099.249396947\n",
      "Model #8\tScore: -2927099.249396947\n",
      "Model #9\tScore: -2906562.025712795\n",
      "Model #9\tScore: -2906562.025712795\n",
      "Model #9\tScore: -2906562.025712795\n",
      "Model #9\tScore: -2906562.025712795\n",
      "Model #10\tScore: -2904341.3467223654\n",
      "Model #10\tScore: -2904341.3467223654\n",
      "Model #10\tScore: -2904341.3467223654\n",
      "Model #10\tScore: -2904341.3467223654\n",
      "Model #11\tScore: -2834742.9714307715\n",
      "Model #11\tScore: -2834742.9714307715\n",
      "Model #11\tScore: -2834742.9714307715\n",
      "Model #11\tScore: -2834742.9714307715\n",
      "Model #12\tScore: -2919926.2831749907\n",
      "Model #12\tScore: -2919926.2831749907\n",
      "Model #12\tScore: -2919926.2831749907\n",
      "Model #12\tScore: -2919926.2831749907\n"
     ]
    }
   ],
   "source": [
    "import concurrent.futures\n",
    "num_workers = 4\n",
    "n_fits = 20\n",
    "N = 10\n",
    "with concurrent.futures.ThreadPoolExecutor(max_workers=num_workers) as executor:\n",
    "    for s, train_input, test_input in score_set:\n",
    "        arguments = [(n_fits, N, train_input, test_input)] * num_workers\n",
    "        futures = [executor.submit(findBestModel, *arg) for arg in arguments]\n",
    "        concurrent.futures.wait(futures)\n",
    "        result = [future.result() for future in futures]\n",
    "        print(result)\n",
    "        best_result = min(result, key=lambda x: x[0])\n",
    "    lowest_best_score, lowest_best_model = best_result\n",
    "    with open(\"model/\" + s + \" model\" + str(lowest_best_score) + \".pkl\", \"wb\") as file:\n",
    "        pickle.dump(lowest_best_model, file)"
   ]
  },
  {
   "cell_type": "code",
   "execution_count": null,
   "metadata": {},
   "outputs": [],
   "source": [
    "import pickle\n",
    "with open(\"model\" + str(best_score) + \".pkl\", \"wb\") as file: \n",
    "    pickle.dump(best_model, file)"
   ]
  },
  {
   "cell_type": "code",
   "execution_count": null,
   "metadata": {},
   "outputs": [],
   "source": [
    "print(\"model\" + str(best_score) + \".pkl\")\n",
    "with open(\"model\" + str(best_score) + \".pkl\", \"rb\") as file: \n",
    "    read_best_model = pickle.load(file)"
   ]
  },
  {
   "cell_type": "code",
   "execution_count": null,
   "metadata": {},
   "outputs": [],
   "source": [
    "read_best_model.predict(test_input)"
   ]
  }
 ],
 "metadata": {
  "kernelspec": {
   "display_name": "Python 3",
   "language": "python",
   "name": "python3"
  },
  "language_info": {
   "codemirror_mode": {
    "name": "ipython",
    "version": 3
   },
   "file_extension": ".py",
   "mimetype": "text/x-python",
   "name": "python",
   "nbconvert_exporter": "python",
   "pygments_lexer": "ipython3",
   "version": "3.10.13"
  }
 },
 "nbformat": 4,
 "nbformat_minor": 2
}
