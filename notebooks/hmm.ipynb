{
 "cells": [
  {
   "cell_type": "code",
   "execution_count": 45,
   "metadata": {},
   "outputs": [
    {
     "name": "stdout",
     "output_type": "stream",
     "text": [
      "Requirement already satisfied: hmmlearn in /usr/local/python/3.10.13/lib/python3.10/site-packages (0.3.0)\n",
      "Requirement already satisfied: numpy>=1.10 in /usr/local/python/3.10.13/lib/python3.10/site-packages (from hmmlearn) (1.24.2)\n",
      "Requirement already satisfied: scikit-learn!=0.22.0,>=0.16 in /home/codespace/.local/lib/python3.10/site-packages (from hmmlearn) (1.3.2)\n",
      "Requirement already satisfied: scipy>=0.19 in /home/codespace/.local/lib/python3.10/site-packages (from hmmlearn) (1.11.3)\n",
      "Requirement already satisfied: joblib>=1.1.1 in /home/codespace/.local/lib/python3.10/site-packages (from scikit-learn!=0.22.0,>=0.16->hmmlearn) (1.3.2)\n",
      "Requirement already satisfied: threadpoolctl>=2.0.0 in /home/codespace/.local/lib/python3.10/site-packages (from scikit-learn!=0.22.0,>=0.16->hmmlearn) (3.2.0)\n",
      "Requirement already satisfied: scikit-learn in /home/codespace/.local/lib/python3.10/site-packages (1.3.2)\n",
      "Requirement already satisfied: numpy<2.0,>=1.17.3 in /usr/local/python/3.10.13/lib/python3.10/site-packages (from scikit-learn) (1.24.2)\n",
      "Requirement already satisfied: scipy>=1.5.0 in /home/codespace/.local/lib/python3.10/site-packages (from scikit-learn) (1.11.3)\n",
      "Requirement already satisfied: joblib>=1.1.1 in /home/codespace/.local/lib/python3.10/site-packages (from scikit-learn) (1.3.2)\n",
      "Requirement already satisfied: threadpoolctl>=2.0.0 in /home/codespace/.local/lib/python3.10/site-packages (from scikit-learn) (3.2.0)\n"
     ]
    }
   ],
   "source": [
    "!pip install hmmlearn\n",
    "!pip install scikit-learn"
   ]
  },
  {
   "cell_type": "code",
   "execution_count": null,
   "metadata": {},
   "outputs": [],
   "source": [
    "import numpy as np\n",
    "import matplotlib.pyplot as plt\n",
    "from hmmlearn import hmm"
   ]
  },
  {
   "cell_type": "code",
   "execution_count": null,
   "metadata": {},
   "outputs": [],
   "source": [
    "##reading from the text file for observation sequnce. Only using 4.0 for now\n",
    "\n",
    "def readInputFromFile(score):\n",
    "    file_path = score\n",
    "    with open(file_path, \"r\") as file:\n",
    "        lines = file.readlines()\n",
    "        seqs = lines[0].split(\"K\")\n",
    "        words = \" \".join(seqs).split(\" \")\n",
    "        string_id = {word: i for i, word in enumerate(set(words))}\n",
    "\n",
    "        seqs = [s.split(\" \") for s in seqs]\n",
    "        ##convert words in seqs to numbers\n",
    "        seqs = [[string_id[w] for w in s] for s in seqs]\n",
    "        # lines = file.readlines()\n",
    "        # print(len(lines))\n",
    "        # string_to_id = {string: i for i, string in enumerate(set(lines[0]))}\n",
    "        # raw_input = lines[0].split(\"K\")\n",
    "        # print(len(raw_input))\n",
    "        # raw_string_pre_pad = [s.split(\" \") for s in raw_input ]\n",
    "        \n",
    "        max_seq = max(len(s) for s in seqs)\n",
    "        hmm_input = [np.pad(s, (0, max_seq - len(s)), constant_values=9999) for s in seqs]\n",
    "        # print(hmm_input[0])\n",
    "    return hmm_input\n",
    "\n",
    "train_input = readInputFromFile(\"train/3.5.txt\")\n",
    "test_input = readInputFromFile(\"test/3.5.txt\")"
   ]
  },
  {
   "cell_type": "code",
   "execution_count": null,
   "metadata": {},
   "outputs": [],
   "source": [
    "# with open(\"train/3.5.txt\", \"r\", encoding='utf-8') as file:\n",
    "#     lines = file.readlines()\n",
    "#     seqs = lines[0].split(\"K\")\n",
    "#     words = \" \".join(seqs).split(\" \")\n",
    "#     string_id = {word: i for i, word in enumerate(set(words))}\n",
    "\n",
    "#     seqs = [s.split(\" \") for s in seqs]\n",
    "#     print(seqs[0])\n",
    "#     seqs = [[string_id[w] for w in s] for s in seqs]\n",
    "#     print(seqs[0])\n",
    "            \n",
    "#     print(string_id)\n",
    "#     max_seq = max(len(s) for s in seqs)\n",
    "#     hmm_input = [np.pad(s, (0, max_seq - len(s)), constant_values=9999) for s in seqs]\n",
    "#     print(hmm_input[0])\n",
    "\n"
   ]
  },
  {
   "cell_type": "code",
   "execution_count": 31,
   "metadata": {},
   "outputs": [
    {
     "name": "stdout",
     "output_type": "stream",
     "text": [
      "Model #0\tScore: -1714932.8416720838\n",
      "Model #1\tScore: -1739949.7450997666\n",
      "Model #2\tScore: -1580008.1390205447\n",
      "Model #3\tScore: -1810791.3952595687\n",
      "Model #4\tScore: -2444928.006717306\n",
      "Model #5\tScore: -1700623.433868408\n",
      "Model #6\tScore: -1692989.7323168127\n",
      "Model #7\tScore: -1834652.05370565\n",
      "Model #8\tScore: -1756916.4325049762\n",
      "Model #9\tScore: -1860037.1649686703\n",
      "Model #10\tScore: -2102721.1316342535\n",
      "Model #11\tScore: -1822475.1106707456\n",
      "Model #12\tScore: -1525690.3733029861\n",
      "Model #13\tScore: -2033096.578521973\n",
      "Model #14\tScore: -1605001.577602776\n",
      "Model #15\tScore: -1869345.2464626175\n",
      "Model #16\tScore: -2354373.0392343053\n",
      "Model #17\tScore: -1594687.945320199\n",
      "Model #18\tScore: -1787100.62473192\n",
      "Model #19\tScore: -1580193.6677048628\n",
      "Model #20\tScore: -2031373.7301996883\n"
     ]
    },
    {
     "ename": "KeyboardInterrupt",
     "evalue": "",
     "output_type": "error",
     "traceback": [
      "\u001b[0;31m---------------------------------------------------------------------------\u001b[0m",
      "\u001b[0;31mKeyboardInterrupt\u001b[0m                         Traceback (most recent call last)",
      "\u001b[1;32m/workspaces/codespaces-jupyter/notebooks/hmm.ipynb Cell 5\u001b[0m line \u001b[0;36m2\n\u001b[1;32m     <a href='vscode-notebook-cell://codespaces%2Bsturdy-space-sniffle-gp55j7pp7vhwgrq/workspaces/codespaces-jupyter/notebooks/hmm.ipynb#W5sdnNjb2RlLXJlbW90ZQ%3D%3D?line=23'>24</a>\u001b[0m model\u001b[39m.\u001b[39mtransmat_ \u001b[39m=\u001b[39m transmat\n\u001b[1;32m     <a href='vscode-notebook-cell://codespaces%2Bsturdy-space-sniffle-gp55j7pp7vhwgrq/workspaces/codespaces-jupyter/notebooks/hmm.ipynb#W5sdnNjb2RlLXJlbW90ZQ%3D%3D?line=24'>25</a>\u001b[0m model\u001b[39m.\u001b[39mfit(train_input)\n\u001b[0;32m---> <a href='vscode-notebook-cell://codespaces%2Bsturdy-space-sniffle-gp55j7pp7vhwgrq/workspaces/codespaces-jupyter/notebooks/hmm.ipynb#W5sdnNjb2RlLXJlbW90ZQ%3D%3D?line=25'>26</a>\u001b[0m score \u001b[39m=\u001b[39m model\u001b[39m.\u001b[39;49mscore(test_input)\n\u001b[1;32m     <a href='vscode-notebook-cell://codespaces%2Bsturdy-space-sniffle-gp55j7pp7vhwgrq/workspaces/codespaces-jupyter/notebooks/hmm.ipynb#W5sdnNjb2RlLXJlbW90ZQ%3D%3D?line=26'>27</a>\u001b[0m \u001b[39mprint\u001b[39m(\u001b[39mf\u001b[39m\u001b[39m'\u001b[39m\u001b[39mModel #\u001b[39m\u001b[39m{\u001b[39;00midx\u001b[39m}\u001b[39;00m\u001b[39m\\t\u001b[39;00m\u001b[39mScore: \u001b[39m\u001b[39m{\u001b[39;00mscore\u001b[39m}\u001b[39;00m\u001b[39m'\u001b[39m)\n\u001b[1;32m     <a href='vscode-notebook-cell://codespaces%2Bsturdy-space-sniffle-gp55j7pp7vhwgrq/workspaces/codespaces-jupyter/notebooks/hmm.ipynb#W5sdnNjb2RlLXJlbW90ZQ%3D%3D?line=27'>28</a>\u001b[0m \u001b[39mif\u001b[39;00m best_score \u001b[39mis\u001b[39;00m \u001b[39mNone\u001b[39;00m \u001b[39mor\u001b[39;00m score \u001b[39m>\u001b[39m best_score:\n",
      "File \u001b[0;32m~/.python/current/lib/python3.10/site-packages/hmmlearn/_emissions.py:27\u001b[0m, in \u001b[0;36m_make_wrapper.<locals>.<lambda>\u001b[0;34m(*args, **kwargs)\u001b[0m\n\u001b[1;32m     26\u001b[0m \u001b[39mdef\u001b[39;00m \u001b[39m_make_wrapper\u001b[39m(func):\n\u001b[0;32m---> 27\u001b[0m     \u001b[39mreturn\u001b[39;00m functools\u001b[39m.\u001b[39mwraps(func)(\u001b[39mlambda\u001b[39;00m \u001b[39m*\u001b[39margs, \u001b[39m*\u001b[39m\u001b[39m*\u001b[39mkwargs: func(\u001b[39m*\u001b[39;49margs, \u001b[39m*\u001b[39;49m\u001b[39m*\u001b[39;49mkwargs))\n",
      "File \u001b[0;32m~/.python/current/lib/python3.10/site-packages/hmmlearn/base.py:226\u001b[0m, in \u001b[0;36m_AbstractHMM.score\u001b[0;34m(self, X, lengths)\u001b[0m\n\u001b[1;32m    203\u001b[0m \u001b[39mdef\u001b[39;00m \u001b[39mscore\u001b[39m(\u001b[39mself\u001b[39m, X, lengths\u001b[39m=\u001b[39m\u001b[39mNone\u001b[39;00m):\n\u001b[1;32m    204\u001b[0m \u001b[39m    \u001b[39m\u001b[39m\"\"\"\u001b[39;00m\n\u001b[1;32m    205\u001b[0m \u001b[39m    Compute the log probability under the model.\u001b[39;00m\n\u001b[1;32m    206\u001b[0m \n\u001b[0;32m   (...)\u001b[0m\n\u001b[1;32m    224\u001b[0m \u001b[39m    decode : Find most likely state sequence corresponding to ``X``.\u001b[39;00m\n\u001b[1;32m    225\u001b[0m \u001b[39m    \"\"\"\u001b[39;00m\n\u001b[0;32m--> 226\u001b[0m     \u001b[39mreturn\u001b[39;00m \u001b[39mself\u001b[39;49m\u001b[39m.\u001b[39;49m_score(X, lengths, compute_posteriors\u001b[39m=\u001b[39;49m\u001b[39mFalse\u001b[39;49;00m)[\u001b[39m0\u001b[39m]\n",
      "File \u001b[0;32m~/.python/current/lib/python3.10/site-packages/hmmlearn/base.py:244\u001b[0m, in \u001b[0;36m_AbstractHMM._score\u001b[0;34m(self, X, lengths, compute_posteriors)\u001b[0m\n\u001b[1;32m    239\u001b[0m X \u001b[39m=\u001b[39m check_array(X)\n\u001b[1;32m    240\u001b[0m impl \u001b[39m=\u001b[39m {\n\u001b[1;32m    241\u001b[0m     \u001b[39m\"\u001b[39m\u001b[39mscaling\u001b[39m\u001b[39m\"\u001b[39m: \u001b[39mself\u001b[39m\u001b[39m.\u001b[39m_score_scaling,\n\u001b[1;32m    242\u001b[0m     \u001b[39m\"\u001b[39m\u001b[39mlog\u001b[39m\u001b[39m\"\u001b[39m: \u001b[39mself\u001b[39m\u001b[39m.\u001b[39m_score_log,\n\u001b[1;32m    243\u001b[0m }[\u001b[39mself\u001b[39m\u001b[39m.\u001b[39mimplementation]\n\u001b[0;32m--> 244\u001b[0m \u001b[39mreturn\u001b[39;00m impl(\n\u001b[1;32m    245\u001b[0m     X\u001b[39m=\u001b[39;49mX, lengths\u001b[39m=\u001b[39;49mlengths, compute_posteriors\u001b[39m=\u001b[39;49mcompute_posteriors)\n",
      "File \u001b[0;32m~/.python/current/lib/python3.10/site-packages/hmmlearn/base.py:257\u001b[0m, in \u001b[0;36m_AbstractHMM._score_log\u001b[0;34m(self, X, lengths, compute_posteriors)\u001b[0m\n\u001b[1;32m    255\u001b[0m \u001b[39mfor\u001b[39;00m sub_X \u001b[39min\u001b[39;00m _utils\u001b[39m.\u001b[39msplit_X_lengths(X, lengths):\n\u001b[1;32m    256\u001b[0m     log_frameprob \u001b[39m=\u001b[39m \u001b[39mself\u001b[39m\u001b[39m.\u001b[39m_compute_log_likelihood(sub_X)\n\u001b[0;32m--> 257\u001b[0m     log_probij, fwdlattice \u001b[39m=\u001b[39m _hmmc\u001b[39m.\u001b[39;49mforward_log(\n\u001b[1;32m    258\u001b[0m         \u001b[39mself\u001b[39;49m\u001b[39m.\u001b[39;49mstartprob_, \u001b[39mself\u001b[39;49m\u001b[39m.\u001b[39;49mtransmat_, log_frameprob)\n\u001b[1;32m    259\u001b[0m     log_prob \u001b[39m+\u001b[39m\u001b[39m=\u001b[39m log_probij\n\u001b[1;32m    260\u001b[0m     \u001b[39mif\u001b[39;00m compute_posteriors:\n",
      "\u001b[0;31mKeyboardInterrupt\u001b[0m: "
     ]
    }
   ],
   "source": [
    "best_score = best_model = None\n",
    "n_fits = 20\n",
    "N = 10\n",
    "np.random.seed(13)\n",
    "\n",
    "for idx in range(n_fits):\n",
    "    model = hmm.CategoricalHMM(\n",
    "        n_components=N, random_state=idx,\n",
    "        init_params='se')  # don't init transition, set it below\n",
    "    # we need to initialize with random transition matrix probabilities\n",
    "    # because the default is an even likelihood transition\n",
    "    # we know transitions are rare (otherwise the casino would get caught!)\n",
    "    # so let's have an Dirichlet random prior with an alpha value of\n",
    "    # (0.1, 0.9) to enforce our assumption transitions happen roughly 10%\n",
    "    # of the time\n",
    "\n",
    "    ##A \n",
    "    epsilon = 1e-6\n",
    "    transmat = np.full((N, N), 1 / N) + epsilon\n",
    "    transmat /= transmat.sum(axis=1, keepdims=True)\n",
    "    # print(A_matrix)\n",
    "    # model.transmat_ = np.array([np.random.dirichlet([0.9, 0.1]),\n",
    "    #                             np.random.dirichlet([0.1, 0.9])])\n",
    "    model.transmat_ = transmat\n",
    "    model.fit(train_input)\n",
    "    score = model.score(test_input)\n",
    "    print(f'Model #{idx}\\tScore: {score}')\n",
    "    if best_score is None or score > best_score:\n",
    "        best_model = model\n",
    "        best_score = score"
   ]
  },
  {
   "cell_type": "code",
   "execution_count": 40,
   "metadata": {},
   "outputs": [],
   "source": [
    "import pickle\n",
    "with open(\"model\" + str(best_score) + \".pkl\", \"wb\") as file: \n",
    "    pickle.dump(best_model, file)"
   ]
  },
  {
   "cell_type": "code",
   "execution_count": 41,
   "metadata": {},
   "outputs": [
    {
     "name": "stdout",
     "output_type": "stream",
     "text": [
      "model-1525690.3733029861.pkl\n"
     ]
    }
   ],
   "source": [
    "print(\"model\" + str(best_score) + \".pkl\")\n",
    "with open(\"model\" + str(best_score) + \".pkl\", \"rb\") as file: \n",
    "    read_best_model = pickle.load(file)"
   ]
  },
  {
   "cell_type": "code",
   "execution_count": 43,
   "metadata": {},
   "outputs": [
    {
     "data": {
      "text/plain": [
       "array([1, 1, 4, ..., 0, 0, 0])"
      ]
     },
     "execution_count": 43,
     "metadata": {},
     "output_type": "execute_result"
    }
   ],
   "source": [
    "read_best_model.predict(test_input)"
   ]
  }
 ],
 "metadata": {
  "kernelspec": {
   "display_name": "Python 3",
   "language": "python",
   "name": "python3"
  },
  "language_info": {
   "codemirror_mode": {
    "name": "ipython",
    "version": 3
   },
   "file_extension": ".py",
   "mimetype": "text/x-python",
   "name": "python",
   "nbconvert_exporter": "python",
   "pygments_lexer": "ipython3",
   "version": "3.10.13"
  }
 },
 "nbformat": 4,
 "nbformat_minor": 2
}
